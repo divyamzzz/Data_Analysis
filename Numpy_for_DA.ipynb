{
 "cells": [
  {
   "cell_type": "markdown",
   "id": "63a20d48",
   "metadata": {},
   "source": [
    "# WHAT IS NUMPY ?\n",
    " NumPy is a fundamental library for scientific computing in Python. It provides support for arrays and matrices, along with a collection of mathematical functions to operate on these data structures. In this lesson, we will cover the basics of NumPy, focusing on arrays and vectorized operations."
   ]
  },
  {
   "cell_type": "markdown",
   "id": "f71bcc47",
   "metadata": {},
   "source": [
    "To install numpy library:\n",
    "\n",
    "pip install numpy "
   ]
  },
  {
   "cell_type": "markdown",
   "id": "428088f6",
   "metadata": {},
   "source": [
    "## NUMPY ARRAY OPERATIONS\n"
   ]
  },
  {
   "cell_type": "code",
   "execution_count": null,
   "id": "609110ad",
   "metadata": {},
   "outputs": [],
   "source": [
    "## importing numpy library \n",
    "\n",
    "import numpy as np"
   ]
  },
  {
   "cell_type": "code",
   "execution_count": 82,
   "id": "49be34db",
   "metadata": {},
   "outputs": [
    {
     "name": "stdout",
     "output_type": "stream",
     "text": [
      "[1 2 3 4 5 6]\n"
     ]
    }
   ],
   "source": [
    "## creating an array using numpy \n",
    "\n",
    "arr1=np.array([1,2,3,4,5,6])\n",
    "print(arr1)"
   ]
  },
  {
   "cell_type": "code",
   "execution_count": null,
   "id": "292c1e77",
   "metadata": {},
   "outputs": [
    {
     "name": "stdout",
     "output_type": "stream",
     "text": [
      "<class 'numpy.ndarray'>\n",
      "(6,)\n"
     ]
    }
   ],
   "source": [
    "print(type(arr1))\n",
    "print(arr1.shape) ## prints the shape of the array (6,) which means 1-D array with length 6 "
   ]
  },
  {
   "cell_type": "code",
   "execution_count": 90,
   "id": "08dcf66c",
   "metadata": {},
   "outputs": [
    {
     "name": "stdout",
     "output_type": "stream",
     "text": [
      "[1 2 3 4 5 6]\n",
      "[[1 2 3]\n",
      " [4 5 6]]\n",
      "(2, 3)\n"
     ]
    }
   ],
   "source": [
    "arr2=np.array([1,2,3,4,5,6])\n",
    "print(arr2)\n",
    "\n",
    "## reshaping array \n",
    "arr2=arr2.reshape(2,3) ##reshapes the array into 2 rows and 3 coloumns \n",
    "print(arr2)\n",
    "print(arr2.shape) ## 2 dimensional array wiht 2 rows and 3 coloumns "
   ]
  },
  {
   "cell_type": "code",
   "execution_count": null,
   "id": "763a64aa",
   "metadata": {},
   "outputs": [
    {
     "data": {
      "text/plain": [
       "array([0, 2, 4, 6, 8])"
      ]
     },
     "execution_count": 81,
     "metadata": {},
     "output_type": "execute_result"
    }
   ],
   "source": [
    "## creating an array using arange \n",
    "## takes 3 arguments the starting element the last element(not included) and the increment value \n",
    "np.arange(0,10,2) "
   ]
  },
  {
   "cell_type": "code",
   "execution_count": null,
   "id": "c9d15846",
   "metadata": {},
   "outputs": [
    {
     "data": {
      "text/plain": [
       "array([[1., 1., 1., 1.],\n",
       "       [1., 1., 1., 1.],\n",
       "       [1., 1., 1., 1.]])"
      ]
     },
     "execution_count": 19,
     "metadata": {},
     "output_type": "execute_result"
    }
   ],
   "source": [
    "## creating an array of ones takes 2 arguments (rows,columns)\n",
    "np.ones((3,4)) "
   ]
  },
  {
   "cell_type": "code",
   "execution_count": null,
   "id": "338deff6",
   "metadata": {},
   "outputs": [
    {
     "data": {
      "text/plain": [
       "array([[1., 0., 0.],\n",
       "       [0., 1., 0.],\n",
       "       [0., 0., 1.]])"
      ]
     },
     "execution_count": 23,
     "metadata": {},
     "output_type": "execute_result"
    }
   ],
   "source": [
    "## Identity matrix \n",
    "## takes an argument of (no of rows) the diagnol elements will be one \n",
    "np.eye(3)"
   ]
  },
  {
   "cell_type": "code",
   "execution_count": 29,
   "id": "9a307f2f",
   "metadata": {},
   "outputs": [
    {
     "name": "stdout",
     "output_type": "stream",
     "text": [
      "(2, 3)\n",
      "2\n",
      "6\n",
      "int64\n",
      "8\n"
     ]
    }
   ],
   "source": [
    "arr=np.array([[1,2,3],[4,5,6]])\n",
    "##arr shape\n",
    "print(arr.shape)\n",
    "##arr dimension\n",
    "print(arr.ndim)\n",
    "## number of elements\n",
    "print(arr.size)\n",
    "## arr data type\n",
    "print(arr.dtype)\n",
    "## arr item size in bytes\n",
    "print(arr.itemsize)"
   ]
  },
  {
   "cell_type": "markdown",
   "id": "ebd656ce",
   "metadata": {},
   "source": [
    "# NUMPY VECTOR OPERATIONS"
   ]
  },
  {
   "cell_type": "code",
   "execution_count": 43,
   "id": "2f0a6cf6",
   "metadata": {},
   "outputs": [],
   "source": [
    "arr3=np.array([1,2,3,4,5])"
   ]
  },
  {
   "cell_type": "code",
   "execution_count": 40,
   "id": "b4089db4",
   "metadata": {},
   "outputs": [],
   "source": [
    "arr4=np.array([6,7,8,9,10])"
   ]
  },
  {
   "cell_type": "code",
   "execution_count": 41,
   "id": "205cb2f1",
   "metadata": {},
   "outputs": [
    {
     "name": "stdout",
     "output_type": "stream",
     "text": [
      "[1 2 3 4 5]\n",
      "[ 6  7  8  9 10]\n",
      "[ 7  9 11 13 15]\n",
      "[-5 -5 -5 -5 -5]\n",
      "[ 6 14 24 36 50]\n",
      "[0.16666667 0.28571429 0.375      0.44444444 0.5       ]\n"
     ]
    }
   ],
   "source": [
    "print(arr3)\n",
    "print(arr4)\n",
    "##ALL OPERATIONS ARE ELEMENT WISE \n",
    "\n",
    "##addition\n",
    "print(arr3+arr4)\n",
    "##subtraction\n",
    "print(arr3-arr4)\n",
    "##multiplication\n",
    "print(arr3*arr4)\n",
    "##divison\n",
    "print(arr3/arr4)"
   ]
  },
  {
   "cell_type": "code",
   "execution_count": 44,
   "id": "e691e847",
   "metadata": {},
   "outputs": [
    {
     "name": "stdout",
     "output_type": "stream",
     "text": [
      "[1.         1.41421356 1.73205081 2.         2.23606798]\n",
      "[  2.71828183   7.3890561   20.08553692  54.59815003 148.4131591 ]\n",
      "[ 0.84147098  0.90929743  0.14112001 -0.7568025  -0.95892427]\n",
      "[0.         0.69314718 1.09861229 1.38629436 1.60943791]\n"
     ]
    }
   ],
   "source": [
    "##universal operations element wise\n",
    "\n",
    "print(np.sqrt(arr3)) ##square root \n",
    "\n",
    "print(np.exp(arr3))  ##e^\n",
    "\n",
    "print(np.sin(arr3))  ##sine of elements\n",
    "\n",
    "print(np.log(arr3)) ##log of elements \n",
    "\n",
    "\n",
    "  \n"
   ]
  },
  {
   "cell_type": "code",
   "execution_count": 50,
   "id": "c57627d5",
   "metadata": {},
   "outputs": [
    {
     "name": "stdout",
     "output_type": "stream",
     "text": [
      "[[ 1  2  3  4]\n",
      " [ 5  6  7  8]\n",
      " [ 9 10 11 12]]\n"
     ]
    }
   ],
   "source": [
    "##accessing elements \n",
    "## indexing is zero based means the element 1 is arr[0][0] element 2 is arr[0][1]\n",
    "\n",
    "arr5=np.array([list(range(1,5)),list(range(5,9)),list(range(9,13))])\n",
    "print(arr5)"
   ]
  },
  {
   "cell_type": "code",
   "execution_count": 53,
   "id": "1da1ac02",
   "metadata": {},
   "outputs": [
    {
     "name": "stdout",
     "output_type": "stream",
     "text": [
      "1\n"
     ]
    }
   ],
   "source": [
    "\n",
    "print(arr5[0][0]) ##output 1"
   ]
  },
  {
   "cell_type": "code",
   "execution_count": 62,
   "id": "b77c996a",
   "metadata": {},
   "outputs": [
    {
     "data": {
      "text/plain": [
       "array([[3, 4],\n",
       "       [7, 8]])"
      ]
     },
     "execution_count": 62,
     "metadata": {},
     "output_type": "execute_result"
    }
   ],
   "source": [
    "## accessing element 3,4 and 7,8 \n",
    "arr5[0:2,2:] ## 0:2 selects the rows, 2: selects the coloums \n"
   ]
  },
  {
   "cell_type": "code",
   "execution_count": 63,
   "id": "3340868a",
   "metadata": {},
   "outputs": [
    {
     "data": {
      "text/plain": [
       "array([[ 6,  7],\n",
       "       [10, 11]])"
      ]
     },
     "execution_count": 63,
     "metadata": {},
     "output_type": "execute_result"
    }
   ],
   "source": [
    "## accessing 6,7 and 10,11 \n",
    "arr5[1:,1:3]"
   ]
  },
  {
   "cell_type": "code",
   "execution_count": 64,
   "id": "6f97e7e0",
   "metadata": {},
   "outputs": [
    {
     "name": "stdout",
     "output_type": "stream",
     "text": [
      "[[ 2  2  3  4]\n",
      " [ 5  6  7  8]\n",
      " [ 9 10 11 12]]\n"
     ]
    }
   ],
   "source": [
    "##modifying elements \n",
    "\n",
    "arr5[0][0]=2\n",
    "\n",
    "print(arr5)"
   ]
  },
  {
   "cell_type": "markdown",
   "id": "e2f70362",
   "metadata": {},
   "source": [
    "# Stastical Concepts\n"
   ]
  },
  {
   "cell_type": "markdown",
   "id": "379111c2",
   "metadata": {},
   "source": [
    "## NORMALISATION"
   ]
  },
  {
   "cell_type": "code",
   "execution_count": 66,
   "id": "ef5cdf07",
   "metadata": {},
   "outputs": [
    {
     "name": "stdout",
     "output_type": "stream",
     "text": [
      "Normalised data is [-1.41421356 -0.70710678  0.          0.70710678  1.41421356]\n"
     ]
    }
   ],
   "source": [
    "## data to have mean of 0 and standard deviation of 1 \n",
    "data =np.array([1,2,3,4,5])\n",
    "\n",
    "mean=np.mean(data)\n",
    "std_dev=np.std(data)\n",
    "\n",
    "normalised_data=(data-mean)/std_dev \n",
    "\n",
    "print(\"Normalised data is\", normalised_data)"
   ]
  },
  {
   "cell_type": "code",
   "execution_count": 68,
   "id": "7ad152cd",
   "metadata": {},
   "outputs": [
    {
     "name": "stdout",
     "output_type": "stream",
     "text": [
      "mean of data is 3.0, standard deviation of data is 1.4142135623730951, median of data is 3.0 and variance of data is 2.0\n"
     ]
    }
   ],
   "source": [
    "median=np.median(data)\n",
    "\n",
    "variance=np.var(data)\n",
    "\n",
    "print(f\"mean of data is {mean}, standard deviation of data is {std_dev}, median of data is {median} and variance of data is {variance}\")"
   ]
  },
  {
   "cell_type": "markdown",
   "id": "cf5a0290",
   "metadata": {},
   "source": [
    "## LOGICAL OPERATIONS "
   ]
  },
  {
   "cell_type": "code",
   "execution_count": 74,
   "id": "7bfd10c9",
   "metadata": {},
   "outputs": [
    {
     "name": "stdout",
     "output_type": "stream",
     "text": [
      "[ True  True  True  True False]\n",
      "[1 2 3 4]\n"
     ]
    }
   ],
   "source": [
    "print(data<5) ##gives true for values less than 5\n",
    "print(data[data<5]) ##gives elements"
   ]
  },
  {
   "cell_type": "code",
   "execution_count": 78,
   "id": "c9fca997",
   "metadata": {},
   "outputs": [
    {
     "name": "stdout",
     "output_type": "stream",
     "text": [
      "[1 2 4 5]\n"
     ]
    }
   ],
   "source": [
    "print(data[(data<=2)|(data>=4)]) ##gives the elments whose value is less than equal to 2 which is 1 and 2 and elements whose values are greater than 4 which is 5 \n",
    "\n",
    "## for logical operations we have to use '&' for 'and' operation '|' for 'or' operation. "
   ]
  }
 ],
 "metadata": {
  "kernelspec": {
   "display_name": "Python 3",
   "language": "python",
   "name": "python3"
  },
  "language_info": {
   "codemirror_mode": {
    "name": "ipython",
    "version": 3
   },
   "file_extension": ".py",
   "mimetype": "text/x-python",
   "name": "python",
   "nbconvert_exporter": "python",
   "pygments_lexer": "ipython3",
   "version": "3.12.0"
  }
 },
 "nbformat": 4,
 "nbformat_minor": 5
}
